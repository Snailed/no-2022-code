{
 "cells": [
  {
   "cell_type": "code",
   "execution_count": 1,
   "id": "a563eac6",
   "metadata": {},
   "outputs": [],
   "source": [
    "import numpy as np\n",
    "import matplotlib.pyplot as plt\n",
    "from tqdm.notebook import tqdm, trange"
   ]
  },
  {
   "cell_type": "code",
   "execution_count": 2,
   "id": "cadec5d1",
   "metadata": {},
   "outputs": [],
   "source": [
    "from functions.ellipsoid import Ellipsoid\n",
    "from functions.rosenbrock import Rosenbrock\n",
    "from functions.log_ellipsoid import LogEllipsoid\n",
    "from functions.attractive_sector import AttractiveSector\n",
    "from functions.sum_of_different_powers import SumOfDifferentPowers"
   ]
  },
  {
   "cell_type": "code",
   "execution_count": 3,
   "id": "9f9ac6ac",
   "metadata": {},
   "outputs": [],
   "source": [
    "from optimizers.line_search.newton import NewtonLineSearch\n",
    "from optimizers.line_search.steepest_descent import SteepestDescentLineSearch"
   ]
  },
  {
   "cell_type": "code",
   "execution_count": 4,
   "id": "fd0e38f9",
   "metadata": {},
   "outputs": [],
   "source": [
    "def plot_minimizer_ellipsoid(minimize):\n",
    "    xk_at_i = []\n",
    "    def c(xk):\n",
    "        xk_at_i.append(xk)\n",
    "        if np.linalg.norm(Ellipsoid.gradient(xk)) < 0.1:\n",
    "            return True\n",
    "        return False\n",
    "    minimize(Ellipsoid.f, [10, 10], Ellipsoid.gradient, hes=Ellipsoid.hessian, callback=c)\n",
    "    #print([np.linalg.norm(xk) for xk in xk_at_i])\n",
    "    plt.yscale('log')\n",
    "    plt.plot([np.linalg.norm(Ellipsoid.gradient(xk)) for xk in xk_at_i])"
   ]
  },
  {
   "cell_type": "code",
   "execution_count": 5,
   "id": "014c523d",
   "metadata": {},
   "outputs": [
    {
     "name": "stdout",
     "output_type": "stream",
     "text": [
      "newton start new\n",
      "eigenvals\n",
      "newton start new\n",
      "eigenvals\n",
      "newton start new\n",
      "eigenvals\n",
      "newton start new\n",
      "eigenvals\n",
      "newton start new\n",
      "eigenvals\n",
      "newton start new\n",
      "eigenvals\n",
      "newton start new\n",
      "eigenvals\n",
      "newton start new\n",
      "eigenvals\n",
      "newton start new\n",
      "eigenvals\n",
      "newton start new\n",
      "eigenvals\n",
      "newton start new\n",
      "eigenvals\n",
      "newton start new\n",
      "eigenvals\n",
      "newton start new\n",
      "eigenvals\n",
      "newton start new\n",
      "eigenvals\n",
      "newton start new\n",
      "eigenvals\n",
      "newton start new\n",
      "eigenvals\n"
     ]
    },
    {
     "data": {
      "image/png": "[encoded data removed]",
      "text/plain": [
       "<Figure size 432x288 with 1 Axes>"
      ]
     },
     "metadata": {
      "needs_background": "light"
     },
     "output_type": "display_data"
    }
   ],
   "source": [
    "plot_minimizer_ellipsoid(NewtonLineSearch.minimize)"
   ]
  },
  {
   "cell_type": "code",
   "execution_count": null,
   "id": "17e339f9",
   "metadata": {},
   "outputs": [],
   "source": [
    "plot_minimizer_ellipsoid(SteepestDescentLineSearch.minimize)"
   ]
  },
  {
   "cell_type": "code",
   "execution_count": null,
   "id": "a27e0485",
   "metadata": {},
   "outputs": [],
   "source": [
    "def plot_minimizer_rosenbrock(minimize):\n",
    "    xk_at_i = []\n",
    "    def c(xk):\n",
    "        xk_at_i.append(xk)\n",
    "        if np.linalg.norm(Rosenbrock.gradient(xk)) < 0.1:\n",
    "            return True\n",
    "        return False\n",
    "    minimize(Rosenbrock.f, [10, 10], Rosenbrock.gradient, hes=Rosenbrock.hessian, callback=c)\n",
    "    #print([np.linalg.norm(xk) for xk in xk_at_i])\n",
    "    plt.yscale('log')\n",
    "    plt.plot([np.linalg.norm(Rosenbrock.gradient(xk)) for xk in xk_at_i])"
   ]
  },
  {
   "cell_type": "code",
   "execution_count": null,
   "id": "23cef387",
   "metadata": {},
   "outputs": [],
   "source": [
    "plot_minimizer_rosenbrock(NewtonLineSearch.minimize)"
   ]
  },
  {
   "cell_type": "code",
   "execution_count": null,
   "id": "15c09fe1",
   "metadata": {},
   "outputs": [],
   "source": [
    "plot_minimizer_rosenbrock(SteepestDescentLineSearch.minimize)"
   ]
  },
  {
   "cell_type": "code",
   "execution_count": null,
   "id": "ec4fe581",
   "metadata": {},
   "outputs": [],
   "source": [
    "def plot_minimizer_log_ellipsoid(minimize):\n",
    "    xk_at_i = []\n",
    "    print(\"1\")\n",
    "    def c(xk):\n",
    "        xk_at_i.append(xk)\n",
    "        if np.linalg.norm(LogEllipsoid.gradient(xk)) < 0.1:\n",
    "            return True\n",
    "        return False\n",
    "    print(\"2\")\n",
    "    minimize(LogEllipsoid.f, [10, 10], LogEllipsoid.gradient, hes=LogEllipsoid.hessian, callback=c)\n",
    "    #print([np.linalg.norm(xk) for xk in xk_at_i])\n",
    "    plt.yscale('log')\n",
    "    plt.plot([np.linalg.norm(LogEllipsoid.gradient(xk)) for xk in xk_at_i])"
   ]
  },
  {
   "cell_type": "code",
   "execution_count": null,
   "id": "c471ebc6",
   "metadata": {},
   "outputs": [],
   "source": [
    "plot_minimizer_log_ellipsoid(NewtonLineSearch.minimize)"
   ]
  },
  {
   "cell_type": "code",
   "execution_count": null,
   "id": "4d2ac7c4",
   "metadata": {},
   "outputs": [],
   "source": [
    "print(\"hello\")"
   ]
  },
  {
   "cell_type": "code",
   "execution_count": null,
   "id": "61b49160",
   "metadata": {},
   "outputs": [],
   "source": [
    "plot_minimizer_log_ellipsoid(SteepestDescentLineSearch.minimize)"
   ]
  }
 ],
 "metadata": {
  "kernelspec": {
   "display_name": "Python 3 (ipykernel)",
   "language": "python",
   "name": "python3"
  },
  "language_info": {
   "codemirror_mode": {
    "name": "ipython",
    "version": 3
   },
   "file_extension": ".py",
   "mimetype": "text/x-python",
   "name": "python",
   "nbconvert_exporter": "python",
   "pygments_lexer": "ipython3",
   "version": "3.10.1"
  }
 },
 "nbformat": 4,
 "nbformat_minor": 5
}
